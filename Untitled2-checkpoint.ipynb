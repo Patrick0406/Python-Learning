{
 "cells": [
  {
   "cell_type": "code",
   "execution_count": 3,
   "metadata": {},
   "outputs": [
    {
     "name": "stdout",
     "output_type": "stream",
     "text": [
      "Patrick, that was a great trick!\n",
      "I can't wait to see your next trick, Patrick.\n",
      "\n",
      "Penny, that was a great trick!\n",
      "I can't wait to see your next trick, Penny.\n",
      "\n",
      "Mike, that was a great trick!\n",
      "I can't wait to see your next trick, Mike.\n",
      "\n",
      "Tony, that was a great trick!\n",
      "I can't wait to see your next trick, Tony.\n",
      "\n"
     ]
    }
   ],
   "source": [
    "magicians=['patrick','penny','mike','tony']\n",
    "for magician in magicians:\n",
    "    print(magician.title()+', that was a great trick!')\n",
    "    print(\"I can't wait to see your next trick, \"+magician.title()+'.\\n')"
   ]
  },
  {
   "cell_type": "code",
   "execution_count": null,
   "metadata": {
    "collapsed": true
   },
   "outputs": [],
   "source": []
  }
 ],
 "metadata": {
  "kernelspec": {
   "display_name": "Python 3",
   "language": "python",
   "name": "python3"
  },
  "language_info": {
   "codemirror_mode": {
    "name": "ipython",
    "version": 3
   },
   "file_extension": ".py",
   "mimetype": "text/x-python",
   "name": "python",
   "nbconvert_exporter": "python",
   "pygments_lexer": "ipython3",
   "version": "3.6.2"
  }
 },
 "nbformat": 4,
 "nbformat_minor": 2
}
